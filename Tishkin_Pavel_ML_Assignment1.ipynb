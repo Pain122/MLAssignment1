{
 "cells": [
  {
   "cell_type": "markdown",
   "id": "20097b02-319a-460f-8655-e770b67925a5",
   "metadata": {},
   "source": [
    "# Introduction to Machine Learning. Assignment 1\n",
    "\n",
    "Assignment done by Pavel Tishkin"
   ]
  },
  {
   "cell_type": "code",
   "execution_count": 1,
   "id": "0125aa76-dc6c-44f7-a22d-4d52a42f447f",
   "metadata": {},
   "outputs": [],
   "source": [
    "import numpy as np\n",
    "import pandas as pd\n",
    "from sklearn.preprocessing import MinMaxScaler, LabelEncoder, OneHotEncoder\n",
    "from scipy import stats"
   ]
  },
  {
   "cell_type": "markdown",
   "source": [
    "## Data Preprocessing"
   ],
   "metadata": {
    "collapsed": false
   }
  },
  {
   "cell_type": "markdown",
   "source": [
    "### Classification"
   ],
   "metadata": {
    "collapsed": false,
    "pycharm": {
     "name": "#%% md\n"
    }
   }
  },
  {
   "cell_type": "code",
   "execution_count": 2,
   "outputs": [],
   "source": [
    "def print_categorical(df: pd.DataFrame):\n",
    "    for i in range(len(df.columns)):\n",
    "        if df.dtypes[i] == object:\n",
    "            col = df.columns[i]\n",
    "            print(f\"Feature {df.columns[i]}. Possible values: {df[col].unique()}\")"
   ],
   "metadata": {
    "collapsed": false,
    "pycharm": {
     "name": "#%%\n"
    }
   }
  },
  {
   "cell_type": "code",
   "execution_count": 3,
   "outputs": [
    {
     "data": {
      "text/plain": "   fps_mean   fps_std  fps_lags  rtt_mean    rtt_std  dropped_frames_mean  \\\n0      24.4  0.516398         0      91.1   6.723921                  0.0   \n1      28.6  2.065591         0      99.7  15.923777                  0.0   \n2      30.0  0.000000         0      98.1  11.798776                  0.0   \n3      30.3  0.948683         0      99.4  13.014522                  0.0   \n4      29.9  0.316228         0     123.2  62.476307                  0.0   \n\n   dropped_frames_std  dropped_frames_max auto_bitrate_state auto_fec_state  \\\n0                 0.0                 0.0                off        partial   \n1                 0.0                 0.0                off        partial   \n2                 0.0                 0.0                off        partial   \n3                 0.0                 0.0                off        partial   \n4                 0.0                 0.0                off        partial   \n\n   auto_fec_mean  stream_quality  \n0           50.0               0  \n1           50.0               0  \n2           50.0               0  \n3           50.0               0  \n4           50.0               0  ",
      "text/html": "<div>\n<style scoped>\n    .dataframe tbody tr th:only-of-type {\n        vertical-align: middle;\n    }\n\n    .dataframe tbody tr th {\n        vertical-align: top;\n    }\n\n    .dataframe thead th {\n        text-align: right;\n    }\n</style>\n<table border=\"1\" class=\"dataframe\">\n  <thead>\n    <tr style=\"text-align: right;\">\n      <th></th>\n      <th>fps_mean</th>\n      <th>fps_std</th>\n      <th>fps_lags</th>\n      <th>rtt_mean</th>\n      <th>rtt_std</th>\n      <th>dropped_frames_mean</th>\n      <th>dropped_frames_std</th>\n      <th>dropped_frames_max</th>\n      <th>auto_bitrate_state</th>\n      <th>auto_fec_state</th>\n      <th>auto_fec_mean</th>\n      <th>stream_quality</th>\n    </tr>\n  </thead>\n  <tbody>\n    <tr>\n      <th>0</th>\n      <td>24.4</td>\n      <td>0.516398</td>\n      <td>0</td>\n      <td>91.1</td>\n      <td>6.723921</td>\n      <td>0.0</td>\n      <td>0.0</td>\n      <td>0.0</td>\n      <td>off</td>\n      <td>partial</td>\n      <td>50.0</td>\n      <td>0</td>\n    </tr>\n    <tr>\n      <th>1</th>\n      <td>28.6</td>\n      <td>2.065591</td>\n      <td>0</td>\n      <td>99.7</td>\n      <td>15.923777</td>\n      <td>0.0</td>\n      <td>0.0</td>\n      <td>0.0</td>\n      <td>off</td>\n      <td>partial</td>\n      <td>50.0</td>\n      <td>0</td>\n    </tr>\n    <tr>\n      <th>2</th>\n      <td>30.0</td>\n      <td>0.000000</td>\n      <td>0</td>\n      <td>98.1</td>\n      <td>11.798776</td>\n      <td>0.0</td>\n      <td>0.0</td>\n      <td>0.0</td>\n      <td>off</td>\n      <td>partial</td>\n      <td>50.0</td>\n      <td>0</td>\n    </tr>\n    <tr>\n      <th>3</th>\n      <td>30.3</td>\n      <td>0.948683</td>\n      <td>0</td>\n      <td>99.4</td>\n      <td>13.014522</td>\n      <td>0.0</td>\n      <td>0.0</td>\n      <td>0.0</td>\n      <td>off</td>\n      <td>partial</td>\n      <td>50.0</td>\n      <td>0</td>\n    </tr>\n    <tr>\n      <th>4</th>\n      <td>29.9</td>\n      <td>0.316228</td>\n      <td>0</td>\n      <td>123.2</td>\n      <td>62.476307</td>\n      <td>0.0</td>\n      <td>0.0</td>\n      <td>0.0</td>\n      <td>off</td>\n      <td>partial</td>\n      <td>50.0</td>\n      <td>0</td>\n    </tr>\n  </tbody>\n</table>\n</div>"
     },
     "execution_count": 3,
     "metadata": {},
     "output_type": "execute_result"
    }
   ],
   "source": [
    "# Lets first look at the presented data:\n",
    "df_train_clf = pd.read_csv('Classification/train_data.csv')\n",
    "df_test_clf = pd.read_csv('Classification/test_data.csv')\n",
    "df_train_clf.head()"
   ],
   "metadata": {
    "collapsed": false,
    "pycharm": {
     "name": "#%%\n"
    }
   }
  },
  {
   "cell_type": "code",
   "execution_count": 4,
   "outputs": [
    {
     "name": "stdout",
     "output_type": "stream",
     "text": [
      "Feature auto_bitrate_state. Possible values: ['off' 'full' 'partial']\n",
      "Feature auto_fec_state. Possible values: ['partial' 'off']\n"
     ]
    }
   ],
   "source": [
    "# and examine categorical features and their values:\n",
    "print_categorical(df_train_clf)"
   ],
   "metadata": {
    "collapsed": false,
    "pycharm": {
     "name": "#%%\n"
    }
   }
  },
  {
   "cell_type": "code",
   "execution_count": 5,
   "outputs": [],
   "source": [
    "# I think, it is possible to encode all of the features with label encoding, as we can deduce an increasing relationship which can be modelled as 0, 1 and 2: off -> partial -> full and for auto_bitrate_state and off -> auto for auto_fec_state. But for the sake of the broadening our horisons, let us use One Hot Encoder for auto_bitrate_state as it is generally more preferable for categorical features.\n",
    "def one_hot_encode(df: pd.DataFrame, f_name: str):\n",
    "    ohe = OneHotEncoder(sparse=False).fit_transform(df[f_name].to_numpy().reshape(-1, 1))\n",
    "    encoded = pd.DataFrame(ohe, columns=[f\"{f_name}{i}\" for i in range(ohe.shape[1])])\n",
    "    return pd.concat([df.drop([f_name], axis=1), encoded], axis=1)\n",
    "\n",
    "f = 'auto_bitrate_state'\n",
    "ohe_train_clf = one_hot_encode(df_train_clf, f)\n",
    "ohe_test_clf = one_hot_encode(df_test_clf, f)"
   ],
   "metadata": {
    "collapsed": false,
    "pycharm": {
     "name": "#%%\n"
    }
   }
  },
  {
   "cell_type": "code",
   "execution_count": 6,
   "outputs": [],
   "source": [
    "# Next is Label Encoding for auto_fec_state:\n",
    "\n",
    "def label_encode(df: pd.DataFrame, f_name: str):\n",
    "    label = LabelEncoder().fit_transform(df[f_name])\n",
    "    res = df.copy()\n",
    "    res[f_name] = label\n",
    "    return res\n",
    "\n",
    "f = 'auto_fec_state'\n",
    "prep_train_clf = label_encode(ohe_train_clf, f)\n",
    "prep_test_clf = label_encode(ohe_test_clf, f)"
   ],
   "metadata": {
    "collapsed": false,
    "pycharm": {
     "name": "#%%\n"
    }
   }
  },
  {
   "cell_type": "code",
   "execution_count": 7,
   "outputs": [],
   "source": [
    "# We will automatically scale X train and test during creation. No point in applying it to target\n",
    "def scale(df: pd.DataFrame):\n",
    "    return pd.DataFrame(MinMaxScaler().fit_transform(df), columns=df.columns)"
   ],
   "metadata": {
    "collapsed": false,
    "pycharm": {
     "name": "#%%\n"
    }
   }
  },
  {
   "cell_type": "code",
   "execution_count": 8,
   "outputs": [],
   "source": [
    "# For classification task the target variable is named stream_quality\n",
    "X_train_clf, X_test_clf = scale(prep_train_clf.drop(['stream_quality'], axis=1)), scale(prep_test_clf.drop(['stream_quality'], axis=1))\n",
    "y_train_clf, y_test_clf = prep_train_clf['stream_quality'], prep_test_clf['stream_quality']"
   ],
   "metadata": {
    "collapsed": false,
    "pycharm": {
     "name": "#%%\n"
    }
   }
  },
  {
   "cell_type": "markdown",
   "source": [
    "### Regression"
   ],
   "metadata": {
    "collapsed": false
   }
  },
  {
   "cell_type": "code",
   "execution_count": 9,
   "outputs": [
    {
     "data": {
      "text/plain": "   fps_mean   fps_std  rtt_mean    rtt_std  dropped_frames_mean  \\\n0      24.4  0.516398      91.1   6.723921                  0.0   \n1      28.6  2.065591      99.7  15.923777                  0.0   \n2      30.0  0.000000      98.1  11.798776                  0.0   \n3      30.3  0.948683      99.4  13.014522                  0.0   \n4      29.9  0.316228     123.2  62.476307                  0.0   \n\n   dropped_frames_std  dropped_frames_max  bitrate_mean  bitrate_std  target  \n0                 0.0                 0.0         460.5     7.648529   616.0  \n1                 0.0                 0.0         616.3   155.414893   565.0  \n2                 0.0                 0.0         565.2     9.077445   573.0  \n3                 0.0                 0.0         573.8    28.350191   585.0  \n4                 0.0                 0.0         585.8    59.458295   555.0  ",
      "text/html": "<div>\n<style scoped>\n    .dataframe tbody tr th:only-of-type {\n        vertical-align: middle;\n    }\n\n    .dataframe tbody tr th {\n        vertical-align: top;\n    }\n\n    .dataframe thead th {\n        text-align: right;\n    }\n</style>\n<table border=\"1\" class=\"dataframe\">\n  <thead>\n    <tr style=\"text-align: right;\">\n      <th></th>\n      <th>fps_mean</th>\n      <th>fps_std</th>\n      <th>rtt_mean</th>\n      <th>rtt_std</th>\n      <th>dropped_frames_mean</th>\n      <th>dropped_frames_std</th>\n      <th>dropped_frames_max</th>\n      <th>bitrate_mean</th>\n      <th>bitrate_std</th>\n      <th>target</th>\n    </tr>\n  </thead>\n  <tbody>\n    <tr>\n      <th>0</th>\n      <td>24.4</td>\n      <td>0.516398</td>\n      <td>91.1</td>\n      <td>6.723921</td>\n      <td>0.0</td>\n      <td>0.0</td>\n      <td>0.0</td>\n      <td>460.5</td>\n      <td>7.648529</td>\n      <td>616.0</td>\n    </tr>\n    <tr>\n      <th>1</th>\n      <td>28.6</td>\n      <td>2.065591</td>\n      <td>99.7</td>\n      <td>15.923777</td>\n      <td>0.0</td>\n      <td>0.0</td>\n      <td>0.0</td>\n      <td>616.3</td>\n      <td>155.414893</td>\n      <td>565.0</td>\n    </tr>\n    <tr>\n      <th>2</th>\n      <td>30.0</td>\n      <td>0.000000</td>\n      <td>98.1</td>\n      <td>11.798776</td>\n      <td>0.0</td>\n      <td>0.0</td>\n      <td>0.0</td>\n      <td>565.2</td>\n      <td>9.077445</td>\n      <td>573.0</td>\n    </tr>\n    <tr>\n      <th>3</th>\n      <td>30.3</td>\n      <td>0.948683</td>\n      <td>99.4</td>\n      <td>13.014522</td>\n      <td>0.0</td>\n      <td>0.0</td>\n      <td>0.0</td>\n      <td>573.8</td>\n      <td>28.350191</td>\n      <td>585.0</td>\n    </tr>\n    <tr>\n      <th>4</th>\n      <td>29.9</td>\n      <td>0.316228</td>\n      <td>123.2</td>\n      <td>62.476307</td>\n      <td>0.0</td>\n      <td>0.0</td>\n      <td>0.0</td>\n      <td>585.8</td>\n      <td>59.458295</td>\n      <td>555.0</td>\n    </tr>\n  </tbody>\n</table>\n</div>"
     },
     "execution_count": 9,
     "metadata": {},
     "output_type": "execute_result"
    }
   ],
   "source": [
    "#Working the same way as in Classification section:\n",
    "df_train_reg: pd.DataFrame = pd.read_csv('Regression/train_data.csv')\n",
    "df_train_reg.head()"
   ],
   "metadata": {
    "collapsed": false,
    "pycharm": {
     "name": "#%%\n"
    }
   }
  },
  {
   "cell_type": "code",
   "execution_count": 10,
   "outputs": [],
   "source": [
    "df_test_reg: pd.DataFrame = pd.read_csv('Regression/test_data.csv')\n",
    "# Since regression data does not contain categorical data, we can proceed to MinMax scaling. We'll use def scale() defined previously\n",
    "reg_train_sc = scale(df_train_reg)\n",
    "reg_test_sc = scale(df_test_reg)"
   ],
   "metadata": {
    "collapsed": false,
    "pycharm": {
     "name": "#%%\n"
    }
   }
  },
  {
   "cell_type": "code",
   "execution_count": 11,
   "outputs": [],
   "source": [
    "# for regression task the target feature is named target:\n",
    "X_train_reg, X_test_reg = reg_train_sc.drop(['target'], axis=1), reg_test_sc.drop(['target'], axis=1)\n",
    "y_train_reg, y_test_reg = reg_train_sc['target'], reg_test_sc['target']"
   ],
   "metadata": {
    "collapsed": false,
    "pycharm": {
     "name": "#%%\n"
    }
   }
  },
  {
   "cell_type": "code",
   "execution_count": 12,
   "outputs": [],
   "source": [
    "y_train_clf, y_test_clf = y_train_clf.astype(int), y_test_clf.astype(int)"
   ],
   "metadata": {
    "collapsed": false,
    "pycharm": {
     "name": "#%%\n"
    }
   }
  },
  {
   "cell_type": "markdown",
   "source": [
    "# Feature Selection and Engineering"
   ],
   "metadata": {
    "collapsed": false,
    "pycharm": {
     "name": "#%% md\n"
    }
   }
  },
  {
   "cell_type": "markdown",
   "source": [
    "# Regression"
   ],
   "metadata": {
    "collapsed": false,
    "pycharm": {
     "name": "#%% md\n"
    }
   }
  },
  {
   "cell_type": "code",
   "execution_count": 13,
   "outputs": [],
   "source": [
    "from sklearn.feature_selection import f_regression, f_classif"
   ],
   "metadata": {
    "collapsed": false,
    "pycharm": {
     "name": "#%%\n"
    }
   }
  },
  {
   "cell_type": "markdown",
   "source": [
    "We will use 2 statistical tests for regression and classification.\n",
    "h0 - Variable is independent from target variable\n",
    "h1 - Variable is dependent on target variable\n",
    "\n",
    "If we obtain low p-value, we can reject H0 and let the feature stay\n",
    "For regression we will calculate f-score and get p-values from it"
   ],
   "metadata": {
    "collapsed": false,
    "pycharm": {
     "name": "#%% md\n"
    }
   }
  },
  {
   "cell_type": "code",
   "execution_count": 14,
   "outputs": [
    {
     "data": {
      "text/plain": "<AxesSubplot:>"
     },
     "execution_count": 14,
     "metadata": {},
     "output_type": "execute_result"
    },
    {
     "data": {
      "text/plain": "<Figure size 432x288 with 1 Axes>",
      "image/png": "[encoded data removed]"
     },
     "metadata": {
      "needs_background": "light"
     },
     "output_type": "display_data"
    }
   ],
   "source": [
    "pd.Series(f_regression(X_train_reg, y_train_reg)[1], index=X_train_reg.columns).plot.bar()"
   ],
   "metadata": {
    "collapsed": false,
    "pycharm": {
     "name": "#%%\n"
    }
   }
  },
  {
   "cell_type": "markdown",
   "source": [
    "Since we need to somehow reduce the dimensionality (H0 was rejected in all cases), we can remove the feature with the highest p-value (rtt_std)"
   ],
   "metadata": {
    "collapsed": false,
    "pycharm": {
     "name": "#%% md\n"
    }
   }
  },
  {
   "cell_type": "code",
   "execution_count": 15,
   "outputs": [],
   "source": [
    "X_train_reg, X_test_reg = X_train_reg.drop(['rtt_std'], axis=1), X_test_reg.drop(['rtt_std'], axis=1)"
   ],
   "metadata": {
    "collapsed": false,
    "pycharm": {
     "name": "#%%\n"
    }
   }
  },
  {
   "cell_type": "markdown",
   "source": [
    "# Classification\n",
    "\n",
    "Repeating the process, as in regression part, we can use ANOVA to get the p-values, using the same hypotheses:"
   ],
   "metadata": {
    "collapsed": false,
    "pycharm": {
     "name": "#%% md\n"
    }
   }
  },
  {
   "cell_type": "code",
   "execution_count": 16,
   "outputs": [
    {
     "data": {
      "text/plain": "<AxesSubplot:>"
     },
     "execution_count": 16,
     "metadata": {},
     "output_type": "execute_result"
    },
    {
     "data": {
      "text/plain": "<Figure size 432x288 with 1 Axes>",
      "image/png": "[encoded data removed]"
     },
     "metadata": {
      "needs_background": "light"
     },
     "output_type": "display_data"
    }
   ],
   "source": [
    "pd.Series(f_classif(X_train_clf, y_train_clf)[1], index=X_train_clf.columns).plot.bar()"
   ],
   "metadata": {
    "collapsed": false,
    "pycharm": {
     "name": "#%%\n"
    }
   }
  },
  {
   "cell_type": "markdown",
   "source": [
    "Once again, we can drop the value only for the sake of the task: (auto_bitrate_state0 - one of the OHE features)"
   ],
   "metadata": {
    "collapsed": false,
    "pycharm": {
     "name": "#%% md\n"
    }
   }
  },
  {
   "cell_type": "code",
   "execution_count": 17,
   "outputs": [],
   "source": [
    "X_train_clf, X_test_clf = X_train_clf.drop(['auto_bitrate_state0'], axis=1), X_test_clf.drop(['auto_bitrate_state0'], axis=1)"
   ],
   "metadata": {
    "collapsed": false,
    "pycharm": {
     "name": "#%%\n"
    }
   }
  },
  {
   "cell_type": "markdown",
   "source": [
    "## Data visualizations"
   ],
   "metadata": {
    "collapsed": false,
    "pycharm": {
     "name": "#%% md\n"
    }
   }
  },
  {
   "cell_type": "code",
   "execution_count": 18,
   "outputs": [
    {
     "data": {
      "text/plain": "Summarize dataset:   0%|          | 0/5 [00:00<?, ?it/s]",
      "application/vnd.jupyter.widget-view+json": {
       "version_major": 2,
       "version_minor": 0,
       "model_id": "eaf360baef4a4cdcb04f8a2957501bad"
      }
     },
     "metadata": {},
     "output_type": "display_data"
    },
    {
     "name": "stderr",
     "output_type": "stream",
     "text": [
      "c:\\users\\pavel\\appdata\\local\\programs\\python\\python38\\lib\\site-packages\\scipy\\stats\\stats.py:4594: RuntimeWarning: overflow encountered in longlong_scalars\n",
      "  (2 * xtie * ytie) / m + x0 * y0 / (9 * m * (size - 2)))\n"
     ]
    },
    {
     "data": {
      "text/plain": "Generate report structure:   0%|          | 0/1 [00:00<?, ?it/s]",
      "application/vnd.jupyter.widget-view+json": {
       "version_major": 2,
       "version_minor": 0,
       "model_id": "46fac05661e0482aafee06505b4289a9"
      }
     },
     "metadata": {},
     "output_type": "display_data"
    },
    {
     "data": {
      "text/plain": "Render HTML:   0%|          | 0/1 [00:00<?, ?it/s]",
      "application/vnd.jupyter.widget-view+json": {
       "version_major": 2,
       "version_minor": 0,
       "model_id": "739ec1f93e3d422c88654d6a28917195"
      }
     },
     "metadata": {},
     "output_type": "display_data"
    },
    {
     "data": {
      "text/plain": "Export report to file:   0%|          | 0/1 [00:00<?, ?it/s]",
      "application/vnd.jupyter.widget-view+json": {
       "version_major": 2,
       "version_minor": 0,
       "model_id": "9c152ccff3d940a2b428f528115aff57"
      }
     },
     "metadata": {},
     "output_type": "display_data"
    }
   ],
   "source": [
    "from pandas_profiling import ProfileReport\n",
    "\n",
    "profile = ProfileReport(df_train_clf, title=\"Pandas Profiling Report\")\n",
    "profile.to_file(\"report_clf.html\")"
   ],
   "metadata": {
    "collapsed": false,
    "pycharm": {
     "name": "#%%\n"
    }
   }
  },
  {
   "cell_type": "code",
   "execution_count": 19,
   "outputs": [
    {
     "data": {
      "text/plain": "Summarize dataset:   0%|          | 0/5 [00:00<?, ?it/s]",
      "application/vnd.jupyter.widget-view+json": {
       "version_major": 2,
       "version_minor": 0,
       "model_id": "f052e35c466b4491a7abf9e95d432e5d"
      }
     },
     "metadata": {},
     "output_type": "display_data"
    },
    {
     "name": "stderr",
     "output_type": "stream",
     "text": [
      "c:\\users\\pavel\\appdata\\local\\programs\\python\\python38\\lib\\site-packages\\scipy\\stats\\stats.py:4594: RuntimeWarning: overflow encountered in longlong_scalars\n",
      "  (2 * xtie * ytie) / m + x0 * y0 / (9 * m * (size - 2)))\n"
     ]
    },
    {
     "data": {
      "text/plain": "Generate report structure:   0%|          | 0/1 [00:00<?, ?it/s]",
      "application/vnd.jupyter.widget-view+json": {
       "version_major": 2,
       "version_minor": 0,
       "model_id": "1646d44071e0431dadb5dd138e6de386"
      }
     },
     "metadata": {},
     "output_type": "display_data"
    },
    {
     "data": {
      "text/plain": "Render HTML:   0%|          | 0/1 [00:00<?, ?it/s]",
      "application/vnd.jupyter.widget-view+json": {
       "version_major": 2,
       "version_minor": 0,
       "model_id": "6faa3a5060524976914205cab253422f"
      }
     },
     "metadata": {},
     "output_type": "display_data"
    },
    {
     "data": {
      "text/plain": "Export report to file:   0%|          | 0/1 [00:00<?, ?it/s]",
      "application/vnd.jupyter.widget-view+json": {
       "version_major": 2,
       "version_minor": 0,
       "model_id": "d597e4d65a45442ea685fbddae6d86f7"
      }
     },
     "metadata": {},
     "output_type": "display_data"
    }
   ],
   "source": [
    "profile = ProfileReport(df_train_reg, title=\"Pandas Profiling Report\")\n",
    "profile.to_file(\"report_reg.html\")"
   ],
   "metadata": {
    "collapsed": false,
    "pycharm": {
     "name": "#%%\n"
    }
   }
  },
  {
   "cell_type": "code",
   "execution_count": 20,
   "id": "668ef4c6-e272-41fc-9850-21546885a879",
   "metadata": {},
   "outputs": [
    {
     "name": "stdout",
     "output_type": "stream",
     "text": [
      "PCA of regression data:\n"
     ]
    },
    {
     "data": {
      "text/plain": "<Figure size 432x288 with 1 Axes>",
      "image/png": "[encoded data removed]"
     },
     "metadata": {
      "needs_background": "light"
     },
     "output_type": "display_data"
    }
   ],
   "source": [
    "#Want to use PCA\n",
    "from sklearn.decomposition import PCA\n",
    "from matplotlib import pyplot as plt\n",
    "\n",
    "print(\"PCA of regression data:\")\n",
    "projected = PCA(1).fit_transform(X_train_reg)\n",
    "plt.scatter(projected, y_train_reg)\n",
    "plt.show()"
   ]
  },
  {
   "cell_type": "code",
   "source": [
    "projected = PCA(2).fit_transform(X_train_clf)\n",
    "print(\"PCA of classification data:\")\n",
    "positive = np.array(list(map(lambda x: x[0], list(filter(lambda x: x[1] == 1, zip(projected, y_train_clf))))))\n",
    "negative = np.array(list(map(lambda x: x[0], list(filter(lambda x: x[1] == 0, zip(projected, y_train_clf))))))\n",
    "plt.scatter(positive[:, 0], positive[:, 1], marker='x')\n",
    "plt.scatter(negative[:, 0], negative[:, 1], marker='o')\n",
    "plt.show()"
   ],
   "metadata": {
    "collapsed": false,
    "pycharm": {
     "name": "#%%\n"
    }
   },
   "execution_count": 21,
   "outputs": [
    {
     "name": "stdout",
     "output_type": "stream",
     "text": [
      "PCA of classification data:\n"
     ]
    },
    {
     "data": {
      "text/plain": "<Figure size 432x288 with 1 Axes>",
      "image/png": "[encoded data removed]"
     },
     "metadata": {
      "needs_background": "light"
     },
     "output_type": "display_data"
    }
   ]
  },
  {
   "cell_type": "markdown",
   "source": [
    "# Machine Learning models"
   ],
   "metadata": {
    "collapsed": false,
    "pycharm": {
     "name": "#%% md\n"
    }
   }
  },
  {
   "cell_type": "markdown",
   "source": [
    "## Regression"
   ],
   "metadata": {
    "collapsed": false,
    "pycharm": {
     "name": "#%% md\n"
    }
   }
  },
  {
   "cell_type": "code",
   "execution_count": 22,
   "outputs": [],
   "source": [
    "from sklearn.linear_model import LinearRegression, Ridge\n",
    "from sklearn.preprocessing import PolynomialFeatures\n",
    "from sklearn.pipeline import make_pipeline\n",
    "# https://towardsdatascience.com/polynomial-regression-with-scikit-learn-what-you-should-know-bed9d3296f2"
   ],
   "metadata": {
    "collapsed": false,
    "pycharm": {
     "name": "#%%\n"
    }
   }
  },
  {
   "cell_type": "code",
   "execution_count": 23,
   "outputs": [],
   "source": [
    "model1 = LinearRegression()\n",
    "model2 = Ridge()\n",
    "model1.fit(X_train_reg, y_train_reg)\n",
    "model2.fit(X_train_reg, y_train_reg)\n",
    "\n",
    "y_pred_reg1 = model1.predict(X_test_reg)\n",
    "y_pred_reg2 = model2.predict(X_test_reg)"
   ],
   "metadata": {
    "collapsed": false,
    "pycharm": {
     "name": "#%%\n"
    }
   }
  },
  {
   "cell_type": "markdown",
   "source": [
    "For polynomial regression, we would need to tweak the degree. We will try increasing it and see if MSE changes for better or worse:"
   ],
   "metadata": {
    "collapsed": false,
    "pycharm": {
     "name": "#%% md\n"
    }
   }
  },
  {
   "cell_type": "code",
   "execution_count": 24,
   "outputs": [],
   "source": [
    "from sklearn.metrics import mean_squared_error\n",
    "res = []\n",
    "\n",
    "for i in range(2, 5):\n",
    "    poly = make_pipeline(PolynomialFeatures(i), LinearRegression())\n",
    "    poly.fit(X_train_reg, y_train_reg)\n",
    "    y_pred_reg3 = poly.predict(X_test_reg)\n",
    "    res.append(mean_squared_error(y_test_reg, y_pred_reg3))"
   ],
   "metadata": {
    "collapsed": false,
    "pycharm": {
     "name": "#%%\n"
    }
   }
  },
  {
   "cell_type": "code",
   "execution_count": 25,
   "outputs": [
    {
     "name": "stdout",
     "output_type": "stream",
     "text": [
      "[0.0009762072661743507, 0.04745554170209508, 1365222.3476492097]\n"
     ]
    }
   ],
   "source": [
    "print(res)"
   ],
   "metadata": {
    "collapsed": false,
    "pycharm": {
     "name": "#%%\n"
    }
   }
  },
  {
   "cell_type": "markdown",
   "source": [
    "## Classification"
   ],
   "metadata": {
    "collapsed": false,
    "pycharm": {
     "name": "#%% md\n"
    }
   }
  },
  {
   "cell_type": "code",
   "execution_count": 26,
   "outputs": [],
   "source": [
    "from sklearn.linear_model import LogisticRegression\n",
    "\n",
    "logistic = LogisticRegression(penalty='l2', max_iter=120000)\n",
    "logistic.fit(X_train_clf, y_train_clf)\n",
    "y_pred_clf = logistic.predict(X_test_clf)"
   ],
   "metadata": {
    "collapsed": false,
    "pycharm": {
     "name": "#%%\n"
    }
   }
  },
  {
   "cell_type": "markdown",
   "source": [
    "# Performance evaluation"
   ],
   "metadata": {
    "collapsed": false,
    "pycharm": {
     "name": "#%% md\n"
    }
   }
  },
  {
   "cell_type": "markdown",
   "source": [
    "## Regression"
   ],
   "metadata": {
    "collapsed": false,
    "pycharm": {
     "name": "#%% md\n"
    }
   }
  },
  {
   "cell_type": "markdown",
   "source": [
    "To evaluate the performance of the models, we are going to use RMSE (the default parameter is true for sklearn MSE, making it RMSE). Let's start with cross validation of our models:"
   ],
   "metadata": {
    "collapsed": false
   }
  },
  {
   "cell_type": "code",
   "execution_count": 27,
   "outputs": [
    {
     "name": "stdout",
     "output_type": "stream",
     "text": [
      "Model 1 Cross Validation mean: 0.8922780099688236, std: 0.00959089453787734\n",
      "Model 2 Cross Validation mean: 0.8922801071540768, std: 0.009589947368565103\n",
      "Model 3 Cross Validation mean: 0.8904863196266785, std: 0.012681118545217786\n"
     ]
    }
   ],
   "source": [
    "from sklearn.model_selection import cross_val_score\n",
    "\n",
    "model1 = LinearRegression()\n",
    "model2 = Ridge()\n",
    "model3 = make_pipeline(PolynomialFeatures(2), LinearRegression())\n",
    "\n",
    "m1_cross = cross_val_score(model1, X_train_reg, y_train_reg, cv=5)\n",
    "m2_cross = cross_val_score(model2, X_train_reg, y_train_reg, cv=5)\n",
    "m3_cross = cross_val_score(model3, X_train_reg, y_train_reg, cv=5)\n",
    "\n",
    "print(f'Model 1 Cross Validation mean: {np.mean(m1_cross)}, std: {np.std(m1_cross)}')\n",
    "print(f'Model 2 Cross Validation mean: {np.mean(m2_cross)}, std: {np.std(m2_cross)}')\n",
    "print(f'Model 3 Cross Validation mean: {np.mean(m3_cross)}, std: {np.std(m3_cross)}')"
   ],
   "metadata": {
    "collapsed": false,
    "pycharm": {
     "name": "#%%\n"
    }
   }
  },
  {
   "cell_type": "markdown",
   "source": [
    "As we can see, all of them are well fitted, no over or underfitting, since std is low, except for the 3rd model, which is a bit overfitted (as demonstrated in degree selection). Now, lets see the performance on the whole dataset:"
   ],
   "metadata": {
    "collapsed": false,
    "pycharm": {
     "name": "#%% md\n"
    }
   }
  },
  {
   "cell_type": "code",
   "execution_count": 28,
   "outputs": [
    {
     "name": "stdout",
     "output_type": "stream",
     "text": [
      "Model 1 (Linear) - MSE:0.0009473950636717554\n",
      "Model 2 (Linear + Ridge) - MSE:0.0009474109187449936\n",
      "Model 3 (Polynomial with degree 2) - MSE:0.0009762072661743507\n"
     ]
    }
   ],
   "source": [
    "print(f'Model 1 (Linear) - MSE:{mean_squared_error(y_test_reg, y_pred_reg1)}')\n",
    "print(f'Model 2 (Linear + Ridge) - MSE:{mean_squared_error(y_test_reg, y_pred_reg2)}')\n",
    "print(f'Model 3 (Polynomial with degree {np.argmin(res) + 2}) - MSE:{res[np.argmin(res)]}')"
   ],
   "metadata": {
    "collapsed": false,
    "pycharm": {
     "name": "#%%\n"
    }
   }
  },
  {
   "cell_type": "markdown",
   "source": [
    "As we can see, the Polynomial regression was unnecessary (model suffers from overfitting drastically for having degree higher than 2). Interestingly, lack of regularization makes model work better. The models do not suffer from overfitting"
   ],
   "metadata": {
    "collapsed": false
   }
  },
  {
   "cell_type": "markdown",
   "source": [
    "## Classification"
   ],
   "metadata": {
    "collapsed": false,
    "pycharm": {
     "name": "#%% md\n"
    }
   }
  },
  {
   "cell_type": "code",
   "execution_count": 29,
   "outputs": [
    {
     "name": "stdout",
     "output_type": "stream",
     "text": [
      "Logistic Regression Cross Validation mean: 0.9446666649455662, std: 0.00793879885764583\n"
     ]
    }
   ],
   "source": [
    "logistic = LogisticRegression(penalty='l2', max_iter=120000)\n",
    "\n",
    "log_cross = cross_val_score(logistic, X_train_clf, y_train_clf, cv=5)\n",
    "print(f'Logistic Regression Cross Validation mean: {np.mean(log_cross)}, std: {np.std(log_cross)}')"
   ],
   "metadata": {
    "collapsed": false,
    "pycharm": {
     "name": "#%%\n"
    }
   }
  },
  {
   "cell_type": "markdown",
   "source": [
    "As we can see, the model did not fit properly, as the loss is high, on the other hand, it std between bins is not high, but slightly overfitted"
   ],
   "metadata": {
    "collapsed": false,
    "pycharm": {
     "name": "#%% md\n"
    }
   }
  },
  {
   "cell_type": "code",
   "execution_count": 30,
   "outputs": [
    {
     "name": "stdout",
     "output_type": "stream",
     "text": [
      "              precision    recall  f1-score   support\n",
      "\n",
      "           0       0.95      0.99      0.97    227902\n",
      "           1       0.53      0.20      0.29     15694\n",
      "\n",
      "    accuracy                           0.94    243596\n",
      "   macro avg       0.74      0.59      0.63    243596\n",
      "weighted avg       0.92      0.94      0.92    243596\n",
      "\n"
     ]
    }
   ],
   "source": [
    "from sklearn.metrics import classification_report\n",
    "\n",
    "print(classification_report(y_test_clf, y_pred_clf))"
   ],
   "metadata": {
    "collapsed": false,
    "pycharm": {
     "name": "#%%\n"
    }
   }
  },
  {
   "cell_type": "markdown",
   "source": [
    "As we can see, the classification model suffers prediction class 1, as the dataset is imbalanced (approximately 6% of labels are of class 1). Weighted average is the weighted by percentage of support sum of metrics for the classes. It demonstrates only the imbalance of the dataset. Macro average is more representative in this case (just a mean of metric values for 2 classes)"
   ],
   "metadata": {
    "collapsed": false
   }
  },
  {
   "cell_type": "markdown",
   "source": [
    "# Data Balancing and Outlier detection"
   ],
   "metadata": {
    "collapsed": false,
    "pycharm": {
     "name": "#%% md\n"
    }
   }
  },
  {
   "cell_type": "code",
   "execution_count": 31,
   "outputs": [],
   "source": [
    "import seaborn as sns"
   ],
   "metadata": {
    "collapsed": false,
    "pycharm": {
     "name": "#%%\n"
    }
   }
  },
  {
   "cell_type": "code",
   "execution_count": 32,
   "outputs": [
    {
     "data": {
      "text/plain": "   fps_mean   fps_std  fps_lags  rtt_mean   rtt_std  dropped_frames_mean  \\\n0  0.191975  0.001652       0.0  0.007063  0.000165                  0.0   \n\n   dropped_frames_std  dropped_frames_max  auto_fec_state  auto_fec_mean  \\\n0                 0.0                 0.0             1.0            0.2   \n\n   auto_bitrate_state1  auto_bitrate_state2  \n0                  1.0                  0.0  ",
      "text/html": "<div>\n<style scoped>\n    .dataframe tbody tr th:only-of-type {\n        vertical-align: middle;\n    }\n\n    .dataframe tbody tr th {\n        vertical-align: top;\n    }\n\n    .dataframe thead th {\n        text-align: right;\n    }\n</style>\n<table border=\"1\" class=\"dataframe\">\n  <thead>\n    <tr style=\"text-align: right;\">\n      <th></th>\n      <th>fps_mean</th>\n      <th>fps_std</th>\n      <th>fps_lags</th>\n      <th>rtt_mean</th>\n      <th>rtt_std</th>\n      <th>dropped_frames_mean</th>\n      <th>dropped_frames_std</th>\n      <th>dropped_frames_max</th>\n      <th>auto_fec_state</th>\n      <th>auto_fec_mean</th>\n      <th>auto_bitrate_state1</th>\n      <th>auto_bitrate_state2</th>\n    </tr>\n  </thead>\n  <tbody>\n    <tr>\n      <th>0</th>\n      <td>0.191975</td>\n      <td>0.001652</td>\n      <td>0.0</td>\n      <td>0.007063</td>\n      <td>0.000165</td>\n      <td>0.0</td>\n      <td>0.0</td>\n      <td>0.0</td>\n      <td>1.0</td>\n      <td>0.2</td>\n      <td>1.0</td>\n      <td>0.0</td>\n    </tr>\n  </tbody>\n</table>\n</div>"
     },
     "execution_count": 32,
     "metadata": {},
     "output_type": "execute_result"
    }
   ],
   "source": [
    "X_train_clf.head(1)"
   ],
   "metadata": {
    "collapsed": false,
    "pycharm": {
     "name": "#%%\n"
    }
   }
  },
  {
   "cell_type": "code",
   "source": [
    "sns.boxplot(x=X_train_clf.fps_mean)"
   ],
   "metadata": {
    "collapsed": false,
    "pycharm": {
     "name": "#%%\n"
    }
   },
   "execution_count": 33,
   "outputs": [
    {
     "data": {
      "text/plain": "<AxesSubplot:xlabel='fps_mean'>"
     },
     "execution_count": 33,
     "metadata": {},
     "output_type": "execute_result"
    },
    {
     "data": {
      "text/plain": "<Figure size 432x288 with 1 Axes>",
      "image/png": "[encoded data removed]"
     },
     "metadata": {
      "needs_background": "light"
     },
     "output_type": "display_data"
    }
   ]
  },
  {
   "cell_type": "markdown",
   "source": [
    "Well, there are a lot of outliers. We need to remove them. We will use Z-score method from the article: https://towardsdatascience.com/ways-to-detect-and-remove-the-outliers-404d16608dba"
   ],
   "metadata": {
    "collapsed": false,
    "pycharm": {
     "name": "#%% md\n"
    }
   }
  },
  {
   "cell_type": "code",
   "execution_count": 34,
   "outputs": [],
   "source": [
    "X_train_clf_o = X_train_clf.copy()\n",
    "X_train_clf_o['target'] = y_train_clf\n",
    "z = np.abs(stats.zscore(X_train_clf))\n",
    "\n",
    "X_train_clf_o = X_train_clf_o[(z < 3).all(axis=1)]"
   ],
   "metadata": {
    "collapsed": false,
    "pycharm": {
     "name": "#%%\n"
    }
   }
  },
  {
   "cell_type": "code",
   "execution_count": 35,
   "outputs": [
    {
     "name": "stdout",
     "output_type": "stream",
     "text": [
      "Removed Outliers: 30748\n"
     ]
    }
   ],
   "source": [
    "print(f'Removed Outliers: {X_train_clf.shape[0] - X_train_clf_o.shape[0]}')"
   ],
   "metadata": {
    "collapsed": false,
    "pycharm": {
     "name": "#%%\n"
    }
   }
  },
  {
   "cell_type": "code",
   "execution_count": 36,
   "outputs": [],
   "source": [
    "# Now, splitting the sets to X y for sampling:\n",
    "X_train_clf_o, y_train_clf_o = X_train_clf_o.drop('target', axis=1), X_train_clf_o['target']"
   ],
   "metadata": {
    "collapsed": false,
    "pycharm": {
     "name": "#%%\n"
    }
   }
  },
  {
   "cell_type": "markdown",
   "source": [
    "For sampling, lets choose the oversampling of the minority class technique:"
   ],
   "metadata": {
    "collapsed": false,
    "pycharm": {
     "name": "#%% md\n"
    }
   }
  },
  {
   "cell_type": "code",
   "execution_count": 37,
   "outputs": [],
   "source": [
    "from imblearn.over_sampling import RandomOverSampler\n",
    "smt = RandomOverSampler(sampling_strategy='minority')\n",
    "X_res, y_res = smt.fit_resample(X_train_clf_o, y_train_clf_o)"
   ],
   "metadata": {
    "collapsed": false,
    "pycharm": {
     "name": "#%%\n"
    }
   }
  },
  {
   "cell_type": "code",
   "execution_count": 38,
   "outputs": [
    {
     "name": "stdout",
     "output_type": "stream",
     "text": [
      "Number of classes: 0 - 357310, 1 - 357310\n",
      "Logistic Regression with sampling Cross Validation mean: 0.6540636981892474, std: 0.008097070288443666\n",
      "              precision    recall  f1-score   support\n",
      "\n",
      "           0       0.97      0.74      0.84    227902\n",
      "           1       0.15      0.67      0.24     15694\n",
      "\n",
      "    accuracy                           0.73    243596\n",
      "   macro avg       0.56      0.70      0.54    243596\n",
      "weighted avg       0.92      0.73      0.80    243596\n",
      "\n"
     ]
    }
   ],
   "source": [
    "logistic = LogisticRegression(penalty='l2', max_iter=120000)\n",
    "\n",
    "logistic.fit(X_res, y_res)\n",
    "\n",
    "print(f'Number of classes: 0 - {sum(y_res == 0)}, 1 - {sum(y_res == 1)}')\n",
    "\n",
    "log_cross = cross_val_score(logistic, X_res, y_res, cv=5)\n",
    "print(f'Logistic Regression with sampling Cross Validation mean: {np.mean(log_cross)}, std: {np.std(log_cross)}')\n",
    "\n",
    "y_pred = logistic.predict(X_test_clf)\n",
    "print(classification_report(y_test_clf, y_pred))"
   ],
   "metadata": {
    "collapsed": false,
    "pycharm": {
     "name": "#%%\n"
    }
   }
  },
  {
   "cell_type": "markdown",
   "source": [
    "Now, lets reprint the results without outliers detection and sampling"
   ],
   "metadata": {
    "collapsed": false,
    "pycharm": {
     "name": "#%% md\n"
    }
   }
  },
  {
   "cell_type": "code",
   "execution_count": 39,
   "outputs": [
    {
     "name": "stdout",
     "output_type": "stream",
     "text": [
      "              precision    recall  f1-score   support\n",
      "\n",
      "           0       0.95      0.99      0.97    227902\n",
      "           1       0.53      0.20      0.29     15694\n",
      "\n",
      "    accuracy                           0.94    243596\n",
      "   macro avg       0.74      0.59      0.63    243596\n",
      "weighted avg       0.92      0.94      0.92    243596\n",
      "\n"
     ]
    }
   ],
   "source": [
    "print(classification_report(y_test_clf, y_pred_clf))"
   ],
   "metadata": {
    "collapsed": false,
    "pycharm": {
     "name": "#%%\n"
    }
   }
  },
  {
   "cell_type": "markdown",
   "source": [
    "As we can see, there were some improvements to recall, but we sacrificed the precision of the model. Nonetheless, the f1-score increased a little bit. Accuracy also improved"
   ],
   "metadata": {
    "collapsed": false,
    "pycharm": {
     "name": "#%% md\n"
    }
   }
  }
 ],
 "metadata": {
  "kernelspec": {
   "display_name": "Python 3",
   "language": "python",
   "name": "python3"
  },
  "language_info": {
   "codemirror_mode": {
    "name": "ipython",
    "version": 3
   },
   "file_extension": ".py",
   "mimetype": "text/x-python",
   "name": "python",
   "nbconvert_exporter": "python",
   "pygments_lexer": "ipython3",
   "version": "3.8.8"
  }
 },
 "nbformat": 4,
 "nbformat_minor": 5
}